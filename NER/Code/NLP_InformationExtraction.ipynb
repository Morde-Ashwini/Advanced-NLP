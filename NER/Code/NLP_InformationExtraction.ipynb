{
  "nbformat": 4,
  "nbformat_minor": 0,
  "metadata": {
    "colab": {
      "provenance": []
    },
    "kernelspec": {
      "name": "python3",
      "display_name": "Python 3"
    },
    "language_info": {
      "name": "python"
    }
  },
  "cells": [
    {
      "cell_type": "code",
      "source": [
        "# References:\n",
        "#https://utkarsh-kumar2407.medium.com/named-entity-recognition-using-bidirectional-lstm-crf-9f4942746b3c\n",
        "#https://www.kaggle.com/code/ab971631/ner-with-bi-lstm-crf\n",
        "\n",
        "\n",
        "!pip install sklearn_crfsuite"
      ],
      "metadata": {
        "colab": {
          "base_uri": "https://localhost:8080/"
        },
        "id": "Yv7PN5udOo7f",
        "outputId": "4dca0d3f-6300-48bf-ee76-93d3e9de7793"
      },
      "execution_count": null,
      "outputs": [
        {
          "output_type": "stream",
          "name": "stdout",
          "text": [
            "Looking in indexes: https://pypi.org/simple, https://us-python.pkg.dev/colab-wheels/public/simple/\n",
            "Collecting sklearn_crfsuite\n",
            "  Downloading sklearn_crfsuite-0.3.6-py2.py3-none-any.whl (12 kB)\n",
            "Requirement already satisfied: tabulate in /usr/local/lib/python3.7/dist-packages (from sklearn_crfsuite) (0.8.10)\n",
            "Requirement already satisfied: six in /usr/local/lib/python3.7/dist-packages (from sklearn_crfsuite) (1.15.0)\n",
            "Requirement already satisfied: tqdm>=2.0 in /usr/local/lib/python3.7/dist-packages (from sklearn_crfsuite) (4.64.1)\n",
            "Collecting python-crfsuite>=0.8.3\n",
            "  Downloading python_crfsuite-0.9.8-cp37-cp37m-manylinux_2_17_x86_64.manylinux2014_x86_64.whl (965 kB)\n",
            "\u001b[K     |████████████████████████████████| 965 kB 4.9 MB/s \n",
            "\u001b[?25hInstalling collected packages: python-crfsuite, sklearn-crfsuite\n",
            "Successfully installed python-crfsuite-0.9.8 sklearn-crfsuite-0.3.6\n"
          ]
        }
      ]
    },
    {
      "cell_type": "code",
      "source": [
        " !pip install seqeval\n"
      ],
      "metadata": {
        "colab": {
          "base_uri": "https://localhost:8080/"
        },
        "id": "jRW-ZRV27AS5",
        "outputId": "8bc4f7f4-8db1-4a05-d98e-4035fab86e12"
      },
      "execution_count": null,
      "outputs": [
        {
          "output_type": "stream",
          "name": "stdout",
          "text": [
            "Looking in indexes: https://pypi.org/simple, https://us-python.pkg.dev/colab-wheels/public/simple/\n",
            "Collecting seqeval\n",
            "  Downloading seqeval-1.2.2.tar.gz (43 kB)\n",
            "\u001b[K     |████████████████████████████████| 43 kB 561 kB/s \n",
            "\u001b[?25hRequirement already satisfied: numpy>=1.14.0 in /usr/local/lib/python3.7/dist-packages (from seqeval) (1.21.6)\n",
            "Requirement already satisfied: scikit-learn>=0.21.3 in /usr/local/lib/python3.7/dist-packages (from seqeval) (1.0.2)\n",
            "Requirement already satisfied: joblib>=0.11 in /usr/local/lib/python3.7/dist-packages (from scikit-learn>=0.21.3->seqeval) (1.2.0)\n",
            "Requirement already satisfied: scipy>=1.1.0 in /usr/local/lib/python3.7/dist-packages (from scikit-learn>=0.21.3->seqeval) (1.7.3)\n",
            "Requirement already satisfied: threadpoolctl>=2.0.0 in /usr/local/lib/python3.7/dist-packages (from scikit-learn>=0.21.3->seqeval) (3.1.0)\n",
            "Building wheels for collected packages: seqeval\n",
            "  Building wheel for seqeval (setup.py) ... \u001b[?25l\u001b[?25hdone\n",
            "  Created wheel for seqeval: filename=seqeval-1.2.2-py3-none-any.whl size=16179 sha256=f8a3ee02478ddde94fab2b94c36616525a936fc7ef98d60d3de381af1d0eeeba\n",
            "  Stored in directory: /root/.cache/pip/wheels/05/96/ee/7cac4e74f3b19e3158dce26a20a1c86b3533c43ec72a549fd7\n",
            "Successfully built seqeval\n",
            "Installing collected packages: seqeval\n",
            "Successfully installed seqeval-1.2.2\n"
          ]
        }
      ]
    },
    {
      "cell_type": "code",
      "source": [
        "# download data files\n",
        "\n",
        "!gdown --id 13pYC9-fSZhivPC3NChlsfoGfqWgXbhpb \n",
        "!gdown --id 1BQhMR0iCdfPDfcd99kFRaUAlQIP-t7FD\n"
      ],
      "metadata": {
        "colab": {
          "base_uri": "https://localhost:8080/"
        },
        "id": "AiuzFrzyEqXk",
        "outputId": "9218823e-7542-498e-c6e4-bd6b45d316ca"
      },
      "execution_count": null,
      "outputs": [
        {
          "output_type": "stream",
          "name": "stdout",
          "text": [
            "/usr/local/lib/python3.7/dist-packages/gdown/cli.py:131: FutureWarning: Option `--id` was deprecated in version 4.3.1 and will be removed in 5.0. You don't need to pass it anymore to use a file ID.\n",
            "  category=FutureWarning,\n",
            "Downloading...\n",
            "From: https://drive.google.com/uc?id=13pYC9-fSZhivPC3NChlsfoGfqWgXbhpb\n",
            "To: /content/data1.csv\n",
            "100% 449k/449k [00:00<00:00, 116MB/s]\n",
            "/usr/local/lib/python3.7/dist-packages/gdown/cli.py:131: FutureWarning: Option `--id` was deprecated in version 4.3.1 and will be removed in 5.0. You don't need to pass it anymore to use a file ID.\n",
            "  category=FutureWarning,\n",
            "Downloading...\n",
            "From: https://drive.google.com/uc?id=1BQhMR0iCdfPDfcd99kFRaUAlQIP-t7FD\n",
            "To: /content/data1.txt\n",
            "100% 447k/447k [00:00<00:00, 114MB/s]\n",
            "/usr/local/lib/python3.7/dist-packages/gdown/cli.py:131: FutureWarning: Option `--id` was deprecated in version 4.3.1 and will be removed in 5.0. You don't need to pass it anymore to use a file ID.\n",
            "  category=FutureWarning,\n",
            "Access denied with the following error:\n",
            "\n",
            " \tCannot retrieve the public link of the file. You may need to change\n",
            "\tthe permission to 'Anyone with the link', or have had many accesses. \n",
            "\n",
            "You may still be able to access the file from the browser:\n",
            "\n",
            "\t https://drive.google.com/uc?id=1-3RvnlyTQitH2XyEscKY8FgMzrIpeSSY \n",
            "\n"
          ]
        }
      ]
    },
    {
      "cell_type": "code",
      "source": [
        "# visualise tags\n",
        "\n",
        
        "\n",
        "import pandas as pd\n",
        "data_df = pd.read_csv(\"data1.csv\", encoding=\"iso-8859-1\", header=0)\n",
        "data_df.head()\n",
        "data_df[data_df[\"Tag\"]!=\"O\"][\"Tag\"].value_counts().plot(kind=\"bar\", figsize=(10,5))"
      ],
      "metadata": {
        "colab": {
          "base_uri": "https://localhost:8080/",
          "height": 360
        },
        "id": "oQSYbn30Q64J",
        "outputId": "b6a17dca-7b31-4a12-e4b0-a79c46ae9dd2"
      },
      "execution_count": null,
      "outputs": [
        {
          "output_type": "execute_result",
          "data": {
            "text/plain": [
              "<matplotlib.axes._subplots.AxesSubplot at 0x7fd8aa2d8f50>"
            ]
          },
          "metadata": {},
          "execution_count": 5
        },
        {
          "output_type": "display_data",
          "data": {
            "text/plain": [
              "<Figure size 720x360 with 1 Axes>"
            ],
            "image/png": "[encoded data removed]"
          },
          "metadata": {
            "needs_background": "light"
          }
        }
      ]
    },
    {
      "cell_type": "code",
      "source": [
        "# import required libraries\n",
        "\n",
        "import warnings\n",
        "warnings.filterwarnings(\"ignore\")\n",
        "import numpy as np\n",
        "\n",
        "from matplotlib import pyplot as plt\n",
        "\n",
        "import seaborn as sns\n",
        "\n",
        "from keras_preprocessing.sequence import pad_sequences\n",
        "from keras.utils.np_utils import to_categorical\n",
        "from keras.models import Sequential\n",
        "from keras.layers import Embedding\n",
        "from keras.layers import Dense, Input\n",
        "from keras.layers import TimeDistributed\n",
        "from keras.layers import LSTM, Bidirectional, SimpleRNN, RNN\n",
        "from keras.models import Model\n",
        "from keras.preprocessing.text import Tokenizer\n",
        "\n",
        "from sklearn.model_selection import train_test_split\n",
        "from sklearn.utils import shuffle"
      ],
      "metadata": {
        "id": "0tfy5YPQ_ynh"
      },
      "execution_count": null,
      "outputs": []
    },
    {
      "cell_type": "code",
      "source": [
        "# ** Executed by Ashwini\n",
        "\n",
        "# pre-process the data\n",
        "\n",
        "file_name = \"data1.txt\"\n",
        "f = open(file_name, \"r\")\n",
        "data = f.read()\n",
        "myarray = data.split(\"\\n\\n\")\n",
        "#print (myarray)\n",
        "X = []\n",
        "Y = []\n",
        "for sentence in myarray:\n",
        "    X_sentence = []\n",
        "    Y_sentence = []\n",
        "    line = sentence.split(\"\\n\")\n",
        "    #print(line)\n",
        "    for item in line:\n",
        "        entity = item.split('\\t')\n",
        "        #print (len(entity))\n",
        "        \n",
        "        if(len(entity)==2):\n",
        "            X_sentence.append(entity[0])          # entity[0] contains the word\n",
        "            Y_sentence.append(entity[1])          # entity[1] contains corresponding tag\n",
        "    X.append(X_sentence)\n",
        "    Y.append(Y_sentence)\n",
        "    #print(X_sentence)"
      ],
      "metadata": {
        "id": "F7FGuhblSPSY"
      },
      "execution_count": null,
      "outputs": []
    },
    {
      "cell_type": "code",
      "source": [
        "print(X[150]) \n",
        "print(Y[150]) "
      ],
      "metadata": {
        "colab": {
          "base_uri": "https://localhost:8080/"
        },
        "id": "z8GYem5zRjOl",
        "outputId": "3fdf6d60-f06b-4d4b-b521-ebede63293f0"
      },
      "execution_count": null,
      "outputs": [
        {
          "output_type": "stream",
          "name": "stdout",
          "text": [
            "['#', 'Solar', 'confusion', 'sets', 'social', 'housing', 'projects', 'back', '|', 'Guardian', 'http://t.co/AEVSy5Kb']\n",
            "['O', 'O', 'O', 'O', 'O', 'O', 'O', 'O', 'O', 'B-ORG', 'O']\n"
          ]
        }
      ]
    },
    {
      "cell_type": "code",
      "source": [
       
        "\n",
        "num_words = len(set([word.lower() for sentence in X for word in sentence]))\n",
        "num_tags   = len(set([word.lower() for sentence in Y for word in sentence]))\n"
      ],
      "metadata": {
        "id": "BTysl-L-RiQ4"
      },
      "execution_count": null,
      "outputs": []
    },
    {
      "cell_type": "code",
      "source": [
       
        "\n",
        "print(\"dimensions of corpus:\")\n",
        "print(\"No of sentences:\", len(X))\n",
        "print(\"No of words:\", num_words)\n",
        "print(\"No of tags:\", num_tags)"
      ],
      "metadata": {
        "colab": {
          "base_uri": "https://localhost:8080/"
        },
        "id": "0Y70KYS2Rme5",
        "outputId": "16eb86f3-b6f0-445c-d38c-817ffe8fac00"
      },
      "execution_count": null,
      "outputs": [
        {
          "output_type": "stream",
          "name": "stdout",
          "text": [
            "dimensions of corpus:\n",
            "No of sentences: 3200\n",
            "No of words: 11791\n",
            "No of tags: 7\n"
          ]
        }
      ]
    },
    {
      "cell_type": "code",
      "source": [
       
        "\n",
        "# encode each word with unique token\n",
        "\n",
        "word_tokenizer = Tokenizer()                      \n",
        "word_tokenizer.fit_on_texts(X)                    \n",
        "X_encoded = word_tokenizer.texts_to_sequences(X)  "
      ],
      "metadata": {
        "id": "3hNegZDJWNdg"
      },
      "execution_count": null,
      "outputs": []
    },
    {
      "cell_type": "code",
      "source": [
      
        "\n",
        "# encode Y\n",
        "\n",
        "tag_tokenizer = Tokenizer()\n",
        "tag_tokenizer.fit_on_texts(Y)\n",
        "Y_encoded = tag_tokenizer.texts_to_sequences(Y)"
      ],
      "metadata": {
        "id": "F-G7rAbeWQGp"
      },
      "execution_count": null,
      "outputs": []
    },
    {
      "cell_type": "code",
      "source": [
       
        "\n",
        "# making sure that each sequence of input and output is same length\n",
        "\n",
        "\n",
        "different_length = [1 if len(input) != len(output) else 0 for input, output in zip(X_encoded, Y_encoded)]\n",
        "print(\"{} sentences have disparate input-output lengths.\".format(sum(different_length)))"
      ],
      "metadata": {
        "colab": {
          "base_uri": "https://localhost:8080/"
        },
        "id": "GDDvGt_DWQWY",
        "outputId": "6c3d8bea-a4ae-47f8-a8ed-70ed6867620e"
      },
      "execution_count": null,
      "outputs": [
        {
          "output_type": "stream",
          "name": "stdout",
          "text": [
            "0 sentences have disparate input-output lengths.\n"
          ]
        }
      ]
    },
    {
      "cell_type": "code",
      "source": [
       
        "\n",
        "# check length of longest sentence\n",
        "lengths = [len(seq) for seq in X_encoded]\n",
        "print(\"Length of longest sentence: {}\".format(max(lengths)))"
      ],
      "metadata": {
        "colab": {
          "base_uri": "https://localhost:8080/"
        },
        "id": "tKh23KKXWQZy",
        "outputId": "5d342a58-29df-4f9c-ce9c-66bd3b008c42"
      },
      "execution_count": null,
      "outputs": [
        {
          "output_type": "stream",
          "name": "stdout",
          "text": [
            "Length of longest sentence: 57\n"
          ]
        }
      ]
    },
    {
      "cell_type": "code",
      "source": [
       
        "\n",
        "print(\"Visualize the lengths of all the senteces\")\n",
        "print(\"This gives an idea about padding.\")\n",
        "sns.boxplot(lengths)\n",
        "plt.show()"
      ],
      "metadata": {
        "colab": {
          "base_uri": "https://localhost:8080/",
          "height": 300
        },
        "id": "kzxfCgT2WcWx",
        "outputId": "96cd61f0-0dc9-466f-84de-0b8084eb11b9"
      },
      "execution_count": null,
      "outputs": [
        {
          "output_type": "stream",
          "name": "stdout",
          "text": [
            "Visualize the lengths of all the senteces\n",
            "This gives an idea about padding.\n"
          ]
        },
        {
          "output_type": "display_data",
          "data": {
            "text/plain": [
              "<Figure size 432x288 with 1 Axes>"
            ],
            "image/png": "[encoded data removed]"
          },
          "metadata": {
            "needs_background": "light"
          }
        }
      ]
    },
    {
      "cell_type": "code",
      "source": [
       
        "\n",
        "# padding each sequence to maximum sequence length  \n",
        "# pre padding - add zeroes on left side and post padding - truncate a sentence from right side.\n",
        "\n",
        "MAX_SEQ_LENGTH = 100  # sequences greater than 100 in length will be truncated\n",
        "\n",
        "X_padded = pad_sequences(X_encoded, maxlen=MAX_SEQ_LENGTH, padding=\"pre\", truncating=\"post\")\n",
        "Y_padded = pad_sequences(Y_encoded, maxlen=MAX_SEQ_LENGTH, padding=\"pre\", truncating=\"post\")"
      ],
      "metadata": {
        "id": "dQLSMmGkWhNe"
      },
      "execution_count": null,
      "outputs": []
    },
    {
      "cell_type": "code",
      "source": [
        "X, Y = X_padded, Y_padded"
      ],
      "metadata": {
        "id": "7lC5zFP_WkB1"
      },
      "execution_count": null,
      "outputs": []
    },
    {
      "cell_type": "code",
      "source": [
       
        "\n",
        "#to access glove file and word2vec file from google drive \n",
        "\n",
        "from google.colab import drive\n",
        "drive.mount(\"/content/drive\")"
      ],
      "metadata": {
        "colab": {
          "base_uri": "https://localhost:8080/"
        },
        "id": "qeEdY39ADeKu",
        "outputId": "16f5f882-7465-47e0-953f-2c3629fd3114"
      },
      "execution_count": null,
      "outputs": [
        {
          "output_type": "stream",
          "name": "stdout",
          "text": [
            "Mounted at /content/drive\n"
          ]
        }
      ]
    },
    {
      "cell_type": "code",
      "source": [
       
        "\n",
        "# we do not need to download glove ai file again and again\n",
        "# so download the file once and keep it in drive and access later\n",
        "\n",
        "import os\n",
        "os.chdir(\"/content/drive/My Drive/nlp\")"
      ],
      "metadata": {
        "id": "hTllJN2pDrdH"
      },
      "execution_count": null,
      "outputs": []
    },
    {
      "cell_type": "code",
      "source": [
       
        "\n",
        "# word vectors are downloaded and extracted into drive once. If you do not have these files in your google drive please donwload them.\n",
        "\n",
        "\n",
        "!wget -q http://nlp.stanford.edu/data/glove.6B.zip\n",
        "\n",
        "!unzip \"./glove.6B.zip\" -d \"glove\""
      ],
      "metadata": {
        "colab": {
          "base_uri": "https://localhost:8080/"
        },
        "id": "UKLXyDTMWqQS",
        "outputId": "de598b42-f5ac-457a-be98-374f609dbbe8"
      },
      "execution_count": null,
      "outputs": [
        {
          "output_type": "stream",
          "name": "stdout",
          "text": [
            "^C\n",
            "Archive:  ./glove.6B.zip\n",
            "replace glove/glove.6B.50d.txt? [y]es, [n]o, [A]ll, [N]one, [r]ename: "
          ]
        }
      ]
    },
    {
      "cell_type": "code",
      "source": [
      
        "\n",
        "# Converting glove vectors into word2vec format \n",
        "# access glove text file kept in drive\n",
        "\n",
        "from gensim.test.utils import datapath, get_tmpfile\n",
        "from gensim.models import KeyedVectors\n",
        "from gensim.scripts.glove2word2vec import glove2word2vec\n",
        "\n",
        "glove_file = './glove/glove.6B.100d.txt'\n",
        "word2vec_glove_file = \"glove.6B.100d.word2vec.txt\"\n",
        "glove2word2vec(glove_file, word2vec_glove_file)"
      ],
      "metadata": {
        "colab": {
          "base_uri": "https://localhost:8080/"
        },
        "id": "mPvyz84oWuXn",
        "outputId": "6e65b6e1-e5fe-42e1-8073-5252bc8fec1a"
      },
      "execution_count": null,
      "outputs": [
        {
          "output_type": "execute_result",
          "data": {
            "text/plain": [
              "(400000, 100)"
            ]
          },
          "metadata": {},
          "execution_count": 22
        }
      ]
    },
    {
      "cell_type": "code",
      "source": [
       
        "\n",
        "embeddings = KeyedVectors.load_word2vec_format(word2vec_glove_file)"
      ],
      "metadata": {
        "id": "eYO97iguZ6-I"
      },
      "execution_count": null,
      "outputs": []
    },
    {
      "cell_type": "code",
      "source": [
       
        "\n",
        "EMBEDDING_SIZE  = 100  # each word in model is represented using a 100 dimensional vector\n",
        "VOCABULARY_SIZE = len(word_tokenizer.word_index) + 1\n",
        "\n",
        "# create an empty embedding matix\n",
        "embedding_weights = np.zeros((VOCABULARY_SIZE, EMBEDDING_SIZE))\n",
        "\n",
        "# create a word to index dictionary mapping\n",
        "word2id = word_tokenizer.word_index\n",
        "\n",
        "# copy vectors from embeddings model to the words present in corpus\n",
        "for word, index in word2id.items():\n",
        "    try:\n",
        "        embedding_weights[index, :] = embeddings[word]\n",
        "    except KeyError:\n",
        "        pass"
      ],
      "metadata": {
        "id": "_E5CUQhYaDbu"
      },
      "execution_count": null,
      "outputs": []
    },
    {
      "cell_type": "code",
      "source": [
       
        "\n",
        "print(\"Embeddings shape: {}\".format(embedding_weights.shape))\n",
        "#embedding_weights[word_tokenizer.word_index['king']]"
      ],
      "metadata": {
        "colab": {
          "base_uri": "https://localhost:8080/"
        },
        "id": "0mgsy8LLaG7q",
        "outputId": "6bec2a49-6358-4d8e-9cce-40af7997a113"
      },
      "execution_count": null,
      "outputs": [
        {
          "output_type": "stream",
          "name": "stdout",
          "text": [
            "Embeddings shape: (11792, 100)\n"
          ]
        }
      ]
    },
    {
      "cell_type": "code",
      "source": [
        
        "\n",
        "# one-hot encode Y\n",
        "Y = to_categorical(Y)\n",
        "\n",
        "\n",
        "# Y of the first output sequqnce\n",
        "print(Y.shape)"
      ],
      "metadata": {
        "colab": {
          "base_uri": "https://localhost:8080/"
        },
        "id": "kcZm8vEFaMau",
        "outputId": "0c09adea-2eec-466c-bf34-e586db1a8f59"
      },
      "execution_count": null,
      "outputs": [
        {
          "output_type": "stream",
          "name": "stdout",
          "text": [
            "(3200, 100, 8)\n"
          ]
        }
      ]
    },
    {
      "cell_type": "code",
      "source": [
       
        "\n",
        "# splitting entire data into training and testing sets\n",
        "TEST_SIZE = 0.15\n",
        "X_train, X_test, Y_train, Y_test = train_test_split(X, Y, test_size=TEST_SIZE, random_state=4)"
      ],
      "metadata": {
        "id": "WtmlgqTOaMeK"
      },
      "execution_count": null,
      "outputs": []
    },
    {
      "cell_type": "code",
      "source": [
      
        "\n",
        "# splitting training data into training and validation sets\n",
        "VALID_SIZE = 0.15\n",
        "X_train, X_validation, Y_train, Y_validation = train_test_split(X_train, Y_train, test_size=VALID_SIZE, random_state=4)"
      ],
      "metadata": {
        "id": "6pKGqq41aMf8"
      },
      "execution_count": null,
      "outputs": []
    },
    {
      "cell_type": "code",
      "source": [
       
        "\n",
        "print(\"TRAINING DATA\")\n",
        "print('Shape of input sequences: {}'.format(X_train.shape))\n",
        "print('Shape of output sequences: {}'.format(Y_train.shape))\n",
        "print(\"-\"*50)\n",
        "print(\"VALIDATION DATA\")\n",
        "print('Shape of input sequences: {}'.format(X_validation.shape))\n",
        "print('Shape of output sequences: {}'.format(Y_validation.shape))\n",
        "print(\"-\"*50)\n",
        "print(\"TESTING DATA\")\n",
        "print('Shape of input sequences: {}'.format(X_test.shape))\n",
        "print('Shape of output sequences: {}'.format(Y_test.shape))"
      ],
      "metadata": {
        "colab": {
          "base_uri": "https://localhost:8080/"
        },
        "id": "bvk6BZU5aMiG",
        "outputId": "1cf254ee-e869-4ff5-dca3-69f190046d5e"
      },
      "execution_count": null,
      "outputs": [
        {
          "output_type": "stream",
          "name": "stdout",
          "text": [
            "TRAINING DATA\n",
            "Shape of input sequences: (2312, 100)\n",
            "Shape of output sequences: (2312, 100, 8)\n",
            "--------------------------------------------------\n",
            "VALIDATION DATA\n",
            "Shape of input sequences: (408, 100)\n",
            "Shape of output sequences: (408, 100, 8)\n",
            "--------------------------------------------------\n",
            "TESTING DATA\n",
            "Shape of input sequences: (480, 100)\n",
            "Shape of output sequences: (480, 100, 8)\n"
          ]
        }
      ]
    },
    {
      "cell_type": "code",
      "source": [
      
        "\n",
        "# total number of tags\n",
        "NUM_CLASSES = Y.shape[2]"
      ],
      "metadata": {
        "id": "CTaN0ZWGaYWa"
      },
      "execution_count": null,
      "outputs": []
    },
    {
      "cell_type": "code",
      "source": [
       
        "\n",
        "# Model architecture\n",
        "\n",
        "bidirect_model = Sequential()\n",
        "bidirect_model.add(Embedding(input_dim     = VOCABULARY_SIZE,\n",
        "                             output_dim    = EMBEDDING_SIZE,\n",
        "                             input_length  = MAX_SEQ_LENGTH,\n",
        "                             weights       = [embedding_weights],\n",
        "                             trainable     = True\n",
        "))\n",
        "bidirect_model.add(Bidirectional(LSTM(64, return_sequences=True)))\n",
        "bidirect_model.add(TimeDistributed(Dense(NUM_CLASSES, activation='softmax')))"
      ],
      "metadata": {
        "id": "uV7w5k4rabxY"
      },
      "execution_count": null,
      "outputs": []
    },
    {
      "cell_type": "code",
      "source": [
       
        "\n",
        "bidirect_model.compile(loss      =  'categorical_crossentropy',\n",
        "                   optimizer =  'adam',\n",
        "                   metrics   =  ['acc'])"
      ],
      "metadata": {
        "id": "73KrRk3hab1h"
      },
      "execution_count": null,
      "outputs": []
    },
    {
      "cell_type": "code",
      "source": [
        
        "\n",
        "# summary of model\n",
        "bidirect_model.summary()"
      ],
      "metadata": {
        "colab": {
          "base_uri": "https://localhost:8080/"
        },
        "id": "DGdzzOsRab3s",
        "outputId": "dfe7f389-a409-4db8-ae38-e92c85081404"
      },
      "execution_count": null,
      "outputs": [
        {
          "output_type": "stream",
          "name": "stdout",
          "text": [
            "Model: \"sequential\"\n",
            "_________________________________________________________________\n",
            " Layer (type)                Output Shape              Param #   \n",
            "=================================================================\n",
            " embedding (Embedding)       (None, 100, 100)          1179200   \n",
            "                                                                 \n",
            " bidirectional (Bidirectiona  (None, 100, 128)         84480     \n",
            " l)                                                              \n",
            "                                                                 \n",
            " time_distributed (TimeDistr  (None, 100, 8)           1032      \n",
            " ibuted)                                                         \n",
            "                                                                 \n",
            "=================================================================\n",
            "Total params: 1,264,712\n",
            "Trainable params: 1,264,712\n",
            "Non-trainable params: 0\n",
            "_________________________________________________________________\n"
          ]
        }
      ]
    },
    {
      "cell_type": "code",
      "source": [
       
        "\n",
        "# model training\n",
        "bidirect_training = bidirect_model.fit(X_train, Y_train, batch_size=64, epochs=10, validation_data=(X_validation, Y_validation))"
      ],
      "metadata": {
        "colab": {
          "base_uri": "https://localhost:8080/"
        },
        "id": "m9fnWJEYab5i",
        "outputId": "dcaffe71-987e-415a-9365-07acacf44bdd"
      },
      "execution_count": null,
      "outputs": [
        {
          "output_type": "stream",
          "name": "stdout",
          "text": [
            "Epoch 1/10\n",
            "37/37 [==============================] - 16s 302ms/step - loss: 0.7666 - acc: 0.9415 - val_loss: 0.0872 - val_acc: 0.9873\n",
            "Epoch 2/10\n",
            "37/37 [==============================] - 10s 258ms/step - loss: 0.0753 - acc: 0.9857 - val_loss: 0.0653 - val_acc: 0.9871\n",
            "Epoch 3/10\n",
            "37/37 [==============================] - 9s 256ms/step - loss: 0.0606 - acc: 0.9872 - val_loss: 0.0588 - val_acc: 0.9874\n",
            "Epoch 4/10\n",
            "37/37 [==============================] - 12s 326ms/step - loss: 0.0533 - acc: 0.9877 - val_loss: 0.0532 - val_acc: 0.9878\n",
            "Epoch 5/10\n",
            "37/37 [==============================] - 10s 280ms/step - loss: 0.0468 - acc: 0.9882 - val_loss: 0.0486 - val_acc: 0.9882\n",
            "Epoch 6/10\n",
            "37/37 [==============================] - 10s 258ms/step - loss: 0.0411 - acc: 0.9888 - val_loss: 0.0449 - val_acc: 0.9886\n",
            "Epoch 7/10\n",
            "37/37 [==============================] - 9s 255ms/step - loss: 0.0364 - acc: 0.9898 - val_loss: 0.0420 - val_acc: 0.9890\n",
            "Epoch 8/10\n",
            "37/37 [==============================] - 9s 256ms/step - loss: 0.0323 - acc: 0.9910 - val_loss: 0.0395 - val_acc: 0.9899\n",
            "Epoch 9/10\n",
            "37/37 [==============================] - 10s 257ms/step - loss: 0.0289 - acc: 0.9920 - val_loss: 0.0383 - val_acc: 0.9901\n",
            "Epoch 10/10\n",
            "37/37 [==============================] - 10s 258ms/step - loss: 0.0260 - acc: 0.9928 - val_loss: 0.0366 - val_acc: 0.9904\n"
          ]
        }
      ]
    },
    {
      "cell_type": "code",
      "source": [
       
        "\n",
        "# training graphs for accuracy\n",
        "plt.plot(bidirect_training.history['acc'])\n",
        "plt.plot(bidirect_training.history['val_acc'])\n",
        "plt.title('model accuracy')\n",
        "plt.ylabel('accuracy')\n",
        "plt.xlabel('epoch')\n",
        "plt.legend(['train', 'test'], loc=\"lower right\")\n",
        "plt.show()"
      ],
      "metadata": {
        "colab": {
          "base_uri": "https://localhost:8080/",
          "height": 295
        },
        "id": "n3dNs1EDazJj",
        "outputId": "4f2bc430-1cae-47a9-877e-fef003699e97"
      },
      "execution_count": null,
      "outputs": [
        {
          "output_type": "display_data",
          "data": {
            "text/plain": [
              "<Figure size 432x288 with 1 Axes>"
            ],
            "image/png": "[encoded data removed]"
          },
          "metadata": {
            "needs_background": "light"
          }
        }
      ]
    },
    {
      "cell_type": "code",
      "source": [
        
        "\n",
        "# training graphs for loss\n",
        "plt.plot(bidirect_training.history['loss'])\n",
        "plt.plot(bidirect_training.history['val_loss'])\n",
        "plt.title('model loss')\n",
        "plt.ylabel('loss')\n",
        "plt.xlabel('epoch')\n",
        "plt.legend(['train', 'test'], loc=\"lower right\")\n",
        "plt.show()"
      ],
      "metadata": {
        "colab": {
          "base_uri": "https://localhost:8080/",
          "height": 295
        },
        "id": "gU1xn2J9nOU5",
        "outputId": "9845223b-32d9-4c16-8db3-b07fabdcb6dc"
      },
      "execution_count": null,
      "outputs": [
        {
          "output_type": "display_data",
          "data": {
            "text/plain": [
              "<Figure size 432x288 with 1 Axes>"
            ],
            "image/png": "[encoded data removed]"
          },
          "metadata": {
            "needs_background": "light"
          }
        }
      ]
    },
    {
      "cell_type": "code",
      "source": [
       
        "\n",
        "loss, accuracy = bidirect_model.evaluate(X_test, Y_test, verbose = 1)\n",
        "print(\"Loss: {0},\\nAccuracy: {1}\".format(loss, accuracy))"
      ],
      "metadata": {
        "colab": {
          "base_uri": "https://localhost:8080/"
        },
        "id": "nXAQbSoxb-s5",
        "outputId": "ace7e0d3-c503-4cfd-ca41-dd341c0bf196"
      },
      "execution_count": null,
      "outputs": [
        {
          "output_type": "stream",
          "name": "stdout",
          "text": [
            "15/15 [==============================] - 1s 36ms/step - loss: 0.0366 - acc: 0.9899\n",
            "Loss: 0.036647867411375046,\n",
            "Accuracy: 0.9899166822433472\n"
          ]
        }
      ]
    },
    {
      "cell_type": "code",
      "source": [
        
        "\n",
        "y_pred = bidirect_model.predict(X_test)\n",
        "\n",
        "y_pred = np.argmax(y_pred, axis=2)\n",
        "\n",
        "y_test = np.argmax(Y_test, axis=2)\n",
        "\n",
        "y_test_true = np.argmax(Y_test, -1)\n",
        "\n",
        "accuracy = (y_pred == y_test).mean()\n",
        "\n",
        "print(\"Accuracy: {:.4f}\".format(accuracy))\n",
        "#print (y_pred,y_test)"
      ],
      "metadata": {
        "colab": {
          "base_uri": "https://localhost:8080/"
        },
        "id": "98CAFkgbrIZ3",
        "outputId": "b03f715d-1f5f-47f4-ac55-94d99765ee07"
      },
      "execution_count": null,
      "outputs": [
        {
          "output_type": "stream",
          "name": "stdout",
          "text": [
            "15/15 [==============================] - 1s 34ms/step\n",
            "Accuracy: 0.9899\n"
          ]
        }
      ]
    },
    {
      "cell_type": "code",
      "source": [
       
        "\n",
        "# list of all tags\n",
        "\n",
        "all_tags = list(set(data_df[\"Tag\"].values))\n",
        "#print (all_tags)"
      ],
      "metadata": {
        "id": "Xbr9bienyjY7"
      },
      "execution_count": null,
      "outputs": []
    },
    {
      "cell_type": "code",
      "source": [
       
        "\n",
        "# create a tag to index dictionary mapping\n",
        "\n",
        "tag2index = {tag: idx + 1 for idx, tag in enumerate(all_tags)}\n",
        "tag2index[\"--PADDING--\"] = 0\n",
        "\n",
        "# create a index to tag dictionary mapping\n",
        "index2tag = {idx: word for word, idx in tag2index.items()}"
      ],
      "metadata": {
        "id": "vYcpMKaSx2q6"
      },
      "execution_count": null,
      "outputs": []
    },
    {
      "cell_type": "code",
      "source": [
       
        "\n",
        "from sklearn.metrics import multilabel_confusion_matrix\n",
        "def tag_conf_matrix(cm, tagid):\n",
        "    tag_name = index2tag[tagid]\n",
        "    print(\"Tag name: {}\".format(tag_name))\n",
        "    print(cm[tagid])\n",
        "    tn, fp, fn, tp = cm[tagid].ravel()\n",
        "    tag_acc = (tp + tn) / (tn + fp + fn + tp)\n",
        "    print(\"Tag accuracy: {:.3f} \\n\".format(tag_acc))\n",
        "\n",
        "matrix = multilabel_confusion_matrix(y_test.flatten(), y_pred.flatten())\n",
        "\n",
        "tag_conf_matrix(matrix, 4)\n",
        "tag_conf_matrix(matrix, 3)"
      ],
      "metadata": {
        "colab": {
          "base_uri": "https://localhost:8080/"
        },
        "id": "gbxvbl-oxm_E",
        "outputId": "dea77cc0-2963-43cc-952d-fcaad88cf113"
      },
      "execution_count": null,
      "outputs": [
        {
          "output_type": "stream",
          "name": "stdout",
          "text": [
            "Tag name: B-LOC\n",
            "[[47901    24]\n",
            " [   46    29]]\n",
            "Tag accuracy: 0.999 \n",
            "\n",
            "Tag name: B-PER\n",
            "[[47863    18]\n",
            " [  100    19]]\n",
            "Tag accuracy: 0.998 \n",
            "\n"
          ]
        }
      ]
    },
    {
      "cell_type": "code",
      "source": [
        "from sklearn.metrics import f1_score\n",
        "from sklearn_crfsuite.metrics import flat_f1_score\n",
        "from seqeval.metrics import precision_score, recall_score, f1_score, classification_report\n",
        "from sklearn_crfsuite.metrics import flat_classification_report\n"
      ],
      "metadata": {
        "id": "rA0Ctp6v8zo3"
      },
      "execution_count": null,
      "outputs": []
    },
    {
      "cell_type": "code",
      "source": [
       
        "\n",
        "# overall f1_score \n",
        "\n",
        "f1_score = flat_f1_score(y_test, y_pred, average = 'weighted')\n",
        "print(f1_score)"
      ],
      "metadata": {
        "colab": {
          "base_uri": "https://localhost:8080/"
        },
        "id": "dvKOss6q9gWj",
        "outputId": "d2f46ecf-ce39-42cc-98f5-7aa94d35530b"
      },
      "execution_count": null,
      "outputs": [
        {
          "output_type": "stream",
          "name": "stdout",
          "text": [
            "0.9875565976378574\n"
          ]
        }
      ]
    },
    {
      "cell_type": "code",
      "source": [
       
        "\n",
        "# evaluate the model\n",
        "\n",
        "from sklearn.metrics import classification_report\n",
        "from sklearn.preprocessing import MultiLabelBinarizer\n",
        "mlb = MultiLabelBinarizer()\n",
        "\n",
        "y_true_binarized = mlb.fit_transform(y_test)\n",
        "y_pred_binarized = mlb.transform(y_pred)\n",
        "\n",
        "print(classification_report(y_true_binarized, y_pred_binarized, \n",
        "                            target_names=[str(cls) for cls in mlb.classes_]))"
      ],
      "metadata": {
        "colab": {
          "base_uri": "https://localhost:8080/"
        },
        "id": "7Dnz2SfSNX6q",
        "outputId": "afc8fd1e-fe47-4321-baec-47cb6868ae7a"
      },
      "execution_count": null,
      "outputs": [
        {
          "output_type": "stream",
          "name": "stdout",
          "text": [
            "              precision    recall  f1-score   support\n",
            "\n",
            "           0       1.00      1.00      1.00       480\n",
            "           1       1.00      0.99      0.99       480\n",
            "           2       0.88      0.44      0.59       105\n",
            "           3       0.69      0.24      0.35        85\n",
            "           4       0.81      0.58      0.67        50\n",
            "           5       0.00      0.00      0.00        37\n",
            "           6       1.00      0.07      0.14        27\n",
            "           7       0.00      0.00      0.00        18\n",
            "\n",
            "   micro avg       0.98      0.82      0.89      1282\n",
            "   macro avg       0.67      0.41      0.47      1282\n",
            "weighted avg       0.92      0.82      0.85      1282\n",
            " samples avg       0.99      0.87      0.91      1282\n",
            "\n"
          ]
        }
      ]
    }
  ]
}
